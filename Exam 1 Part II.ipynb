{
 "cells": [
  {
   "cell_type": "markdown",
   "metadata": {},
   "source": [
    "<h4 class='prehead'>SM286D &middot; Introduction to Applied Mathematics with Python &middot; Spring 2020 &middot; Uhan</h4>\n",
    "\n",
    "<h1 class='lesson_title'>Exam 1 &mdash; 13 February 2020 &mdash; Part II (Open-Book)</h1>"
   ]
  },
  {
   "cell_type": "markdown",
   "metadata": {},
   "source": [
    "## Instructions"
   ]
  },
  {
   "cell_type": "markdown",
   "metadata": {},
   "source": [
    "You have until the end of the class period to complete this exam. For this part of the exam, you may use your own course materials (e.g. notes, textbook), as well as any materials directly linked from the [class website](https://www.usna.edu/Users/math/uhan/sm286d/). __No collaboration allowed.__\n",
    "\n",
    "There are 5 problems in this part, worth a total of 70 points. The exam (both parts) is worth a total of 100 points.\n",
    "\n",
    "Save your work frequently! When you are finished, submit this file using the SM286D Assignment Submission Form linked on the [class website](https://www.usna.edu/Users/math/uhan/sm286d/)."
   ]
  },
  {
   "cell_type": "markdown",
   "metadata": {},
   "source": [
    "---"
   ]
  },
  {
   "cell_type": "markdown",
   "metadata": {},
   "source": [
    "By typing your name in the box below, you pledge on your honor that you have not used any unauthorized materials, and that you have not given or received any unauthorized assistance."
   ]
  },
  {
   "cell_type": "markdown",
   "metadata": {},
   "source": [
    "<span style=\"color:red\"><strong>WRITE YOUR NAME IN THIS BOX. DOUBLE-CLICK TO EDIT.</strong></span>"
   ]
  },
  {
   "cell_type": "markdown",
   "metadata": {},
   "source": [
    "---"
   ]
  },
  {
   "cell_type": "markdown",
   "metadata": {},
   "source": [
    "## Problem 1 (15 points)"
   ]
  },
  {
   "cell_type": "markdown",
   "metadata": {},
   "source": [
    "__(a) 3 points.__\n",
    "Print a message like the one shown below with **TWO DECIMAL PLACES** of accuracy.\n",
    "\n",
    "```\n",
    "My QPR is 3.21.\n",
    "```\n",
    "\n",
    "You must correctly use an f-string and the variable `my_QPR` in your print statement for full credit."
   ]
  },
  {
   "cell_type": "code",
   "execution_count": null,
   "metadata": {},
   "outputs": [],
   "source": [
    "my_QPR = 3.2145\n",
    "\n",
    "# Enter your answer to Problem 1a below this comment\n"
   ]
  },
  {
   "cell_type": "markdown",
   "metadata": {},
   "source": [
    "__(b) 4 points.__\n",
    "To compute your quality point ratio (QPR), the following formula is used:\n",
    "\n",
    "\\begin{equation*}\n",
    "\\text{QPR} = \\frac{(\\text{Quality Points for Course 1} \\times \\text{Credit Hours for Course 1}) + (\\text{Quality Points for Course 2} \\times \\text{Credit Hours for Course 2}) + \\dots}{\\text{Credit Hours for Course 1 + Credit Hours for Course 2} + \\dots}\n",
    "\\end{equation*}\n",
    "\n",
    "where Quality Points are assigned in the following way based on the letter grade received for the course:\n",
    "\n",
    "\\begin{equation*}\n",
    "\\rm{A} = 4, ~ \\rm{B} = 3, ~ \\rm{C} = 2, ~ \\rm{D} = 1, ~ \\rm{F} = 0\n",
    "\\end{equation*}\n",
    "\n",
    "The code cell below contains lists for `my_qual_points`, and `my_credits` for an imaginary midshipman.  Use this information to compute the QPR for this midshipman. For this part only, you may simply \"use Python as a calculator\" and compute the QPR with just arithmetic operators. Store the QPR value in the variable `my_QPR`. Print a statement like the one in part (a) to the screen.  "
   ]
  },
  {
   "cell_type": "code",
   "execution_count": null,
   "metadata": {},
   "outputs": [],
   "source": [
    "my_qual_points = [3, 2, 3, 1, 4]\n",
    "my_credits = [3, 4, 3, 3, 3]\n",
    "\n",
    "# Enter your answer to Problem 1b below this comment\n",
    "# Set my_QPR equal to the correct value:\n",
    "\n",
    "\n",
    "# Print a statement to the screen: \n"
   ]
  },
  {
   "cell_type": "markdown",
   "metadata": {},
   "source": [
    "__(c) 8 points.__\n",
    "Write code that computes the QPR for a midshipman given a list `my_qual_points` of quality points and a list `my_credits` of credits for the corresponding courses. Then print a statement like the one in part (a) to the screen. You may assume that the lists are both of equal length and that the midshipman is taking at least one course. You may test your code on the values below: your code should print \n",
    "\n",
    "```\n",
    "My QPR is 2.56.\n",
    "```\n",
    "\n",
    "For full credit, do not assume that the lists are of length 5. "
   ]
  },
  {
   "cell_type": "code",
   "execution_count": null,
   "metadata": {},
   "outputs": [],
   "source": [
    "my_qual_points = [3, 2, 3, 1, 4]\n",
    "my_credits = [3, 4, 3, 3, 3]\n",
    "\n",
    "# Enter your answer to Problem 1c below this comment\n",
    "# Compute QPR using lists like those above:\n",
    "\n",
    "\n",
    "# Print statement to the screen:\n"
   ]
  },
  {
   "cell_type": "markdown",
   "metadata": {},
   "source": [
    "## Problem 2 (15 points)"
   ]
  },
  {
   "cell_type": "markdown",
   "metadata": {},
   "source": [
    "__(a) 5 points.__ Write a function `grades_to_quality_points` that takes a string as input. The function should return the value 4, 3, 2, 1, or 0 if the string is A, B, C, D, or F (respectively). If the input string is anything else have the function return 0. "
   ]
  },
  {
   "cell_type": "code",
   "execution_count": null,
   "metadata": {},
   "outputs": [],
   "source": [
    "# Write your answer to Problem 2a below this comment\n"
   ]
  },
  {
   "cell_type": "markdown",
   "metadata": {},
   "source": [
    "__(b) 2 points.__ Call your function on the input string `C` and print the result. You should see the value 2. "
   ]
  },
  {
   "cell_type": "code",
   "execution_count": null,
   "metadata": {},
   "outputs": [],
   "source": [
    "# Write your answer to Problem 2b below this comment\n"
   ]
  },
  {
   "cell_type": "markdown",
   "metadata": {},
   "source": [
    "__(c) 8 points.__\n",
    "In this part you will write code to determine how many quality points should be awarded for a course given two user inputs. In order to accomplish this task, your code should do the following:\n",
    "\n",
    "- Prompt the user: \"Enter the number of credits for the new course: \" to ask the user for input and store the value entered in the variable `course_credits`.\n",
    "\n",
    "- Prompt the user: \"Enter the letter grade for the new course: \" to ask the user for input and store the value entered in the variable `course_grade`.\n",
    "\n",
    "- You may assume that users properly enter only numerical values such as 1, 2, 3, or 4 for the number of credits and the values of A, B, C, D, or F for the letter grade.\n",
    "\n",
    "- Define a variable `course_quality_points` and use your function `grades_to_quality_points` to set this variable to the correct value. \n",
    "\n",
    "- Print a message like the one shown below to the output.\n",
    "    ```\n",
    "    A grade of A will earn you 12 quality points for this 3 credit course.\n",
    "    ```\n",
    "    You must correctly use an f-string and the values of `course_grade`, `course_quality_points`, and `course_credits` in your print statement for full credit.\n",
    "    \n",
    "- Test your code by entering 3 for the number of credits for the new course, and A for the letter grade for the new course at the respective prompts."
   ]
  },
  {
   "cell_type": "code",
   "execution_count": null,
   "metadata": {},
   "outputs": [],
   "source": [
    "# Write your answer to Problem 2c below this comment. \n",
    "# Prompt user for course_credits\n",
    "\n",
    "\n",
    "# Prompt user for course_grade\n",
    "\n",
    "\n",
    "# Compute course_quality_points\n",
    "\n",
    "\n",
    "# Print message\n",
    "\n",
    "# Now test your code by running the cell!"
   ]
  },
  {
   "cell_type": "markdown",
   "metadata": {},
   "source": [
    "## Problem 3 (10 points)"
   ]
  },
  {
   "cell_type": "markdown",
   "metadata": {},
   "source": [
    "You are given lists `my_credits`, `my_grades`, and `my_qual_points` below. You are also given strings `new_course_credit`, `new_course_grade`, and `new_qual_points`. You should write code that:\n",
    "\n",
    " - Puts the **NUMERICAL VALUE** for `new_course_credit` after the existing final entry in the list `my_credits`, extending the list by one entry.\n",
    " \n",
    " - Puts the value for `new_course_grade` after the existing final entry in the list `my_grades`.\n",
    " \n",
    " - Puts the **NUMERICAL VALUE** for `new_qual_points` after the existing final entry in the list `my_qual_points`.\n",
    " \n",
    " - Print the three lists `my_credits`, `my_grades`, and `my_qual_points` to the output to show that they each have been extended by one entry."
   ]
  },
  {
   "cell_type": "code",
   "execution_count": null,
   "metadata": {},
   "outputs": [],
   "source": [
    "my_credits = [3, 4, 3, 3, 3]\n",
    "my_grades = ['B', 'A', 'B', 'B', 'B']\n",
    "my_qual_points = [3, 2, 3, 1, 4] \n",
    "new_course_credit = '3'\n",
    "new_course_grade = 'A'\n",
    "new_qual_points = '12'\n",
    "\n",
    "# Write your answer to Problem 3 below this comment\n",
    "# Update the lists:\n",
    "\n",
    "\n",
    "# Print the lists:\n"
   ]
  },
  {
   "cell_type": "markdown",
   "metadata": {},
   "source": [
    "## Problem 4 (15 points)"
   ]
  },
  {
   "cell_type": "markdown",
   "metadata": {},
   "source": [
    "In this problem, you will use a `while` loop to allow a user to add to their existing list of courses.  In order to accomplish this task, your code should do the following:\n",
    "\n",
    " - Start with a `while` loop.\n",
    " \n",
    " - Use the prompt: \"Enter the name of course you want to add to my_courses (enter q to quit): \" to ask the user for input and store the value entered in the variable `course_name`.\n",
    " \n",
    " - Use appropriate `if-elif-else` logic to exit the `while` loop if a user enters q. If they enter a value, then tack this string onto the end of the list `my_courses`.\n",
    " \n",
    " - Print `my_courses` to the screen.\n",
    " \n",
    " - Test your code by entering SA305 as the course name and then entering q to quit the `while` loop."
   ]
  },
  {
   "cell_type": "code",
   "execution_count": null,
   "metadata": {},
   "outputs": [],
   "source": [
    "my_courses = ['NE203', 'SP212', 'HH216', 'SM339', 'SM286D']\n",
    "\n",
    "# Write your answer to Problem 4 below this comment\n"
   ]
  },
  {
   "cell_type": "markdown",
   "metadata": {},
   "source": [
    "## Problem 5 (15 points)"
   ]
  },
  {
   "cell_type": "markdown",
   "metadata": {},
   "source": [
    "In this problem, you will write a function to determine eligibility for the Superintendent's or Commandant's List based on a list of dictionary inputs containing information about courses an imaginary midshipman is taking. For your reference, a simplified list of criteria for Superintendent's and Commandant's List is provided below:"
   ]
  },
  {
   "cell_type": "markdown",
   "metadata": {},
   "source": [
    "__Superintendent's List.__ Midshipmen who meet the following criteria are eligible for Superintendent's List:\n",
    "\n",
    " - QPR of at least 3.4\n",
    " - **NO** grade of D or F in **ANY** course\n",
    " \n",
    "__Commandant's List.__ Midshipmen who meet the following criteria are eligible for Commandant's List:\n",
    "\n",
    " - QPR of at least 2.9"
   ]
  },
  {
   "cell_type": "markdown",
   "metadata": {},
   "source": [
    "In order to accomplish the task, your code must do the following:\n",
    "\n",
    "- Define a function called `check_supe_or_dant` which takes a list of dictionaries as input.\n",
    "\n",
    "    - Examples of the type of input your function must work with are provided in the code cell below. (`partial_mid1`, `partial_mid2`, ...)\n",
    "\n",
    "- Define a variable called `has_D_or_F` with a default value of `False`.\n",
    " \n",
    "- In a `for` loop, iterate through the midshipman's grades and use appropriate `if-elif-else` logic to properly set the value of `has_D_or_F` to `True` or `False`.\n",
    "\n",
    "- Use appropriate `if-elif-else` logic based on the criteria given above and the values of QPR and `has_D_or_F` to determine eligibility for Supe's or Dant's List.\n",
    "\n",
    "- Store one of three messages in the variable `my_message`:\n",
    "    - `'Congratulations you are eligible for Supe's List!'`\n",
    "    - `'Congratulations you are eligible for Dant's List!'`\n",
    "    - `'You are not eligibile for Supe's or Dant's List.'`\n",
    "    \n",
    "- Use appropriate Python code to return `my_message` back to the variable that called the function `check_supe_or_dant`.\n",
    "\n",
    "- The code cell below your answer should be used to check if your function works properly.  If everything is working properly, you should find the following:\n",
    " \n",
    "```\n",
    "Midshipman 1: Congratulations you are eligible for Supe's List!\n",
    "Midshipman 2: Congratulations you are eligible for Dant's List!\n",
    "Midshipman 3: Congratulations you are eligible for Dant's List!\n",
    "Midshipman 4: You are not eligible for Supe's or Dant's List.\n",
    "```"
   ]
  },
  {
   "cell_type": "code",
   "execution_count": null,
   "metadata": {},
   "outputs": [],
   "source": [
    "# DO NOT ALTER THE CODE IN THIS CELL\n",
    "partial_mid1 =  {'QPR': 3.53, 'grades': ['A','A','B','B','A','B']}\n",
    "partial_mid2 =  {'QPR': 3.11, 'grades': ['A','C','B','B','A','B']}\n",
    "partial_mid3 =  {'QPR': 3.37, 'grades': ['A','A','A','D','A','B']}\n",
    "partial_mid4 =  {'QPR': 2.47, 'grades': ['C','C','B','D','A','B']}\n",
    "\n",
    "test_list = [partial_mid1, partial_mid2, partial_mid3, partial_mid4]"
   ]
  },
  {
   "cell_type": "code",
   "execution_count": null,
   "metadata": {},
   "outputs": [],
   "source": [
    "# Write your answer to Problem 5 below this comment\n"
   ]
  },
  {
   "cell_type": "code",
   "execution_count": null,
   "metadata": {},
   "outputs": [],
   "source": [
    "# DO NOT ALTER THE CODE IN THIS CELL\n",
    "# YOUR FUNCTION MUST WORK WITH THE CODE IN THIS CELL FOR FULL CREDIT\n",
    "mid_number = 1\n",
    "for i in test_list:\n",
    "    print(f\"Midshipman {mid_number}: {check_supe_or_dant_partial(i)}\")\n",
    "    mid_number += 1"
   ]
  },
  {
   "cell_type": "markdown",
   "metadata": {},
   "source": [
    "---"
   ]
  },
  {
   "cell_type": "markdown",
   "metadata": {
    "hide_cell": true
   },
   "source": [
    "## When you're finished"
   ]
  },
  {
   "cell_type": "markdown",
   "metadata": {
    "hide_cell": true
   },
   "source": [
    "* Select **Cell &#8594; Run All**  to run all the cells from top to bottom. Make sure your notebook runs as you expect before submitting it.\n",
    "\n",
    "* Submit this file using the SM286D Assignment Submission Form linked on the [class website](https://www.usna.edu/Users/math/uhan/sm286d/)."
   ]
  }
 ],
 "metadata": {
  "kernelspec": {
   "display_name": "Python 3",
   "language": "python",
   "name": "python3"
  },
  "language_info": {
   "codemirror_mode": {
    "name": "ipython",
    "version": 3
   },
   "file_extension": ".py",
   "mimetype": "text/x-python",
   "name": "python",
   "nbconvert_exporter": "python",
   "pygments_lexer": "ipython3",
   "version": "3.6.4"
  }
 },
 "nbformat": 4,
 "nbformat_minor": 2
}
